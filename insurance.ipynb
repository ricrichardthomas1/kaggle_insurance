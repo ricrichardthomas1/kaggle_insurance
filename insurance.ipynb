version https://git-lfs.github.com/spec/v1
oid sha256:cd65aeb83900580e43ddc3e58ad5482fa779c3d71f88e39a20cfc8bd6ab4287f
size 152727
